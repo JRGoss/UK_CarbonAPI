{
 "cells": [
  {
   "cell_type": "code",
   "execution_count": 100,
   "metadata": {},
   "outputs": [],
   "source": [
    "import requests\n",
    "import pandas as pd\n",
    "\n",
    "headers = {\n",
    "  'Accept': 'application/json'\n",
    "}\n",
    "\n",
    "coreString = 'https://api.carbonintensity.org.uk/regional/intensity/'\n",
    "exten = 'pt24h/postcode/'\n",
    "postcodes = pd.Series(['N13','TN1','TN13','TN12'])\n",
    "dates = pd.date_range('1/1/2011',periods=10,freq='D').date\n",
    "responses = []\n",
    "for dt in dates:\n",
    "    for pc in postcodes:\n",
    "        r = requests.get(coreString + dt.strftime('%Y-%m-%d') +  exten +pc, params={}, headers = headers)\n",
    "        responses.append(r.json())"
   ]
  },
  {
   "cell_type": "code",
   "execution_count": 101,
   "metadata": {},
   "outputs": [
    {
     "data": {
      "text/plain": [
       "40"
      ]
     },
     "execution_count": 101,
     "metadata": {},
     "output_type": "execute_result"
    }
   ],
   "source": [
    "len(responses)"
   ]
  },
  {
   "cell_type": "code",
   "execution_count": 29,
   "metadata": {},
   "outputs": [
    {
     "data": {
      "text/plain": [
       "['TN1', 'N13']"
      ]
     },
     "execution_count": 29,
     "metadata": {},
     "output_type": "execute_result"
    }
   ],
   "source": [
    "responses"
   ]
  },
  {
   "cell_type": "code",
   "execution_count": 18,
   "metadata": {},
   "outputs": [],
   "source": [
    "import requests\n",
    "\n",
    "headers = {\n",
    "  'Accept': 'application/json'\n",
    "}\n",
    "\n",
    "coreString = 'https://api.carbonintensity.org.uk'\n",
    "postcodes = ['TN1','N13']\n",
    "responses = []\n",
    "for pc in postcodes:\n",
    "    exten = '/regional/intensity/2019-01-01/pt24h/postcode/' + pc\n",
    "    r = requests.get(coreString+ exten, params={}, headers = headers)\n",
    "    responses.append(r)"
   ]
  },
  {
   "cell_type": "code",
   "execution_count": null,
   "metadata": {},
   "outputs": [],
   "source": []
  },
  {
   "cell_type": "code",
   "execution_count": null,
   "metadata": {},
   "outputs": [],
   "source": []
  }
 ],
 "metadata": {
  "kernelspec": {
   "display_name": "Python 3",
   "language": "python",
   "name": "python3"
  },
  "language_info": {
   "codemirror_mode": {
    "name": "ipython",
    "version": 3
   },
   "file_extension": ".py",
   "mimetype": "text/x-python",
   "name": "python",
   "nbconvert_exporter": "python",
   "pygments_lexer": "ipython3",
   "version": "3.6.0"
  }
 },
 "nbformat": 4,
 "nbformat_minor": 2
}
